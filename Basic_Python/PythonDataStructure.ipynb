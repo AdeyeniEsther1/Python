{
 "cells": [
  {
   "cell_type": "markdown",
   "id": "37f14b4a-e4e4-4196-9267-94dd57abd9ab",
   "metadata": {},
   "source": [
    "### CREATING A PROGRAM THAT ALLOWS THE USER TO MANAGE THEIR SHOPPING LIST. THE USER WILL BE ABLE TO ADD ITEMS TO THE LIST, REMOVE ITEMS, AND VIEW THE CURRENT LIST OF ITEMS.\n",
    "\n",
    "\n",
    "Instructions\n",
    "\n",
    "Statement:\n",
    "\n",
    "Create a list to store the shopping items\n",
    "Use a while loop to create a menu of options for the user to add, remove, or view items from the list\n",
    "Use a for loop to iterate through the list of items and display them to the user\n",
    "Use the range() function to limit the number of items that can be added to the list\n",
    "Use the list, tuple, set, and dictionary data structures to store and manipulate the shopping items\n",
    "Instructions:\n",
    "\n",
    "Create a list named 'shopping_list' to store the items.\n",
    "Use a while loop to create a menu of options for the user to add, remove, or view items from the list.\n",
    "Use the input() function to prompt the user to make a selection from the menu.\n",
    "Use an if-elif-else block to determine the user's selection and perform the corresponding action.\n",
    "If the user selects 'add', use the input() function to prompt the user to enter an item to add to the list. Use the range() function to limit the number of items that can be added to the list.\n",
    "If the user selects 'remove', use the input() function to prompt the user to enter an item to remove from the list.\n",
    "If the user selects 'view', use a for loop to iterate through the list of items and display them to the user.\n",
    "Use the list, tuple, set, and dictionary data structures to store and manipulate the shopping items."
   ]
  },
  {
   "cell_type": "code",
   "execution_count": 2,
   "id": "f607ed25-0839-4d3f-a2a2-7d2f34ee2cc0",
   "metadata": {},
   "outputs": [
    {
     "name": "stdout",
     "output_type": "stream",
     "text": [
      "Welcome to my shopping list, what can I do for you?\n",
      "\n",
      "Menu:\n",
      "1. Add item(s)\n",
      "2. Remove item(s)\n",
      "3. View the list\n",
      "4. Quit\n"
     ]
    },
    {
     "name": "stdin",
     "output_type": "stream",
     "text": [
      "Choose an option (1, 2, 3, or 4):  1\n",
      "Enter the item(s) to add:  Rice\n"
     ]
    },
    {
     "name": "stdout",
     "output_type": "stream",
     "text": [
      "rice has been added to the list.\n",
      "\n",
      "Menu:\n",
      "1. Add item(s)\n",
      "2. Remove item(s)\n",
      "3. View the list\n",
      "4. Quit\n"
     ]
    },
    {
     "name": "stdin",
     "output_type": "stream",
     "text": [
      "Choose an option (1, 2, 3, or 4):  1\n",
      "Enter the item(s) to add:  beans\n"
     ]
    },
    {
     "name": "stdout",
     "output_type": "stream",
     "text": [
      "beans has been added to the list.\n",
      "\n",
      "Menu:\n",
      "1. Add item(s)\n",
      "2. Remove item(s)\n",
      "3. View the list\n",
      "4. Quit\n"
     ]
    },
    {
     "name": "stdin",
     "output_type": "stream",
     "text": [
      "Choose an option (1, 2, 3, or 4):  3\n"
     ]
    },
    {
     "name": "stdout",
     "output_type": "stream",
     "text": [
      "Shopping List:\n",
      " rice\n",
      " beans\n",
      "\n",
      "Menu:\n",
      "1. Add item(s)\n",
      "2. Remove item(s)\n",
      "3. View the list\n",
      "4. Quit\n"
     ]
    },
    {
     "name": "stdin",
     "output_type": "stream",
     "text": [
      "Choose an option (1, 2, 3, or 4):  4\n"
     ]
    },
    {
     "name": "stdout",
     "output_type": "stream",
     "text": [
      "Goodbye!\n"
     ]
    }
   ],
   "source": [
    "# # Creating an empty list called shopping_list\n",
    "shopping_list = []\n",
    "print(\"Welcome to my shopping list, what can I do for you?\")\n",
    "# Start a loop to keep showing the menu\n",
    "while True:\n",
    "    # Showing the menu options\n",
    "    print(\"\\nMenu:\")\n",
    "    print(\"1. Add item(s)\")\n",
    "    print(\"2. Remove item(s)\")\n",
    "    print(\"3. View the list\")\n",
    "    print(\"4. Quit\")\n",
    "\n",
    "    # Asking the user to choose an option\n",
    "    choice = input(\"Choose an option (1, 2, 3, or 4): \")\n",
    "\n",
    "    if choice == \"1\":\n",
    "        # Asking the user for the item to add\n",
    "        item = input(\"Enter the item(s) to add: \").lower()\n",
    "        # Adding the item to the shopping_list\n",
    "        shopping_list.append(item)\n",
    "        print(f\"{item} has been added to the list.\")\n",
    "    elif choice == \"2\":\n",
    "        # Asking the user for the item to remove\n",
    "        item = input(\"Enter the item(s) to remove: \").lower()\n",
    "        # Removing the item from the shopping_list if it exists\n",
    "        if item in shopping_list:\n",
    "            shopping_list.remove(item)\n",
    "            print(f\"{item} has been removed from the list.\")\n",
    "        else:\n",
    "            print(f\"{item} is not in the list.\")\n",
    "    elif choice == \"3\":\n",
    "        # Print all the items in the shopping_list\n",
    "        print(\"Shopping List:\")\n",
    "        for item in shopping_list:\n",
    "            print(f\" {item}\")\n",
    "    elif choice == \"4\":\n",
    "        # Exit the loop\n",
    "        print(\"Goodbye!\")\n",
    "        break\n",
    "    else:\n",
    "        # If the user enters an invalid choice\n",
    "        print(\"Please choose a valid option.\")\n"
   ]
  },
  {
   "cell_type": "code",
   "execution_count": null,
   "id": "0794845e-abfc-4123-9fe2-68b7eb0294a9",
   "metadata": {},
   "outputs": [],
   "source": []
  }
 ],
 "metadata": {
  "kernelspec": {
   "display_name": "Python 3 (ipykernel)",
   "language": "python",
   "name": "python3"
  },
  "language_info": {
   "codemirror_mode": {
    "name": "ipython",
    "version": 3
   },
   "file_extension": ".py",
   "mimetype": "text/x-python",
   "name": "python",
   "nbconvert_exporter": "python",
   "pygments_lexer": "ipython3",
   "version": "3.12.4"
  }
 },
 "nbformat": 4,
 "nbformat_minor": 5
}
