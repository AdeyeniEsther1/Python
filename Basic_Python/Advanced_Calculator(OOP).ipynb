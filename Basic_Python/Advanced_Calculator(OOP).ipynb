{
 "cells": [
  {
   "cell_type": "markdown",
   "id": "607a3f6f-8668-4be4-a63c-4e16b6e06144",
   "metadata": {},
   "source": [
    "## Calculator program 2.0\n",
    "Expanding on the basic calculator program by adding more advanced mathematical operations and error handling using object-oriented programming\n"
   ]
  },
  {
   "cell_type": "code",
   "execution_count": 7,
   "id": "ffea883f-4a50-4504-8886-24f08ee1e5ce",
   "metadata": {},
   "outputs": [
    {
     "name": "stdin",
     "output_type": "stream",
     "text": [
      "Enter the first number:  75\n",
      "Enter the operation (+, -, *, /, ^, sqrt, log):  +\n",
      "Enter the second number:  6\n"
     ]
    },
    {
     "name": "stdout",
     "output_type": "stream",
     "text": [
      "Result: 81.0\n"
     ]
    },
    {
     "name": "stdin",
     "output_type": "stream",
     "text": [
      "Do you want to continue? (yes/no):  yes\n",
      "Enter the first number:  50\n",
      "Enter the operation (+, -, *, /, ^, sqrt, log):  /\n",
      "Enter the second number:  5\n"
     ]
    },
    {
     "name": "stdout",
     "output_type": "stream",
     "text": [
      "Result: 10.0\n"
     ]
    },
    {
     "name": "stdin",
     "output_type": "stream",
     "text": [
      "Do you want to continue? (yes/no):  no\n"
     ]
    }
   ],
   "source": [
    "import math\n",
    "\n",
    "class Calculator:\n",
    "    def __init__(self):\n",
    "        # Initialize the dictionary with basic mathematical operations and functions\n",
    "        self.operations = {\n",
    "            '+': self.add,\n",
    "            '-': self.subtract,\n",
    "            '*': self.multiply,\n",
    "            '/': self.divide\n",
    "        }\n",
    "\n",
    "    def add_operation(self, symbol, function):\n",
    "        # Add a new operation and its corresponding function to the dictionary\n",
    "        self.operations[symbol] = function\n",
    "\n",
    "    def calculate(self, first_number, operator, second_number=None):\n",
    "        # Check if the operator is valid\n",
    "        if operator not in self.operations:\n",
    "            print(\"Invalid operator\")\n",
    "            return None\n",
    "\n",
    "        # Check if the input values are numbers\n",
    "        if not (isinstance(first_number, (int, float)) and (second_number is None or isinstance(second_number, (int, float)))):\n",
    "            print(\"Invalid input. Both inputs must be numbers.\")\n",
    "            return None\n",
    "\n",
    "        # Perform the calculation using the corresponding function\n",
    "        try:\n",
    "            if second_number is None:\n",
    "                result = self.operations[operator](first_number)\n",
    "            else:\n",
    "                result = self.operations[operator](first_number, second_number)\n",
    "            return result\n",
    "        except ZeroDivisionError:\n",
    "            print('Error: Division by zero.')\n",
    "            return None\n",
    "\n",
    "    def add(self, first_number, second_number):\n",
    "        return first_number + second_number\n",
    "\n",
    "    def subtract(self, first_number, second_number):\n",
    "        return first_number - second_number\n",
    "\n",
    "    def multiply(self, first_number, second_number):\n",
    "        return first_number * second_number\n",
    "\n",
    "    def divide(self, first_number, second_number):\n",
    "        if second_number == 0:\n",
    "            raise ZeroDivisionError\n",
    "        return first_number / second_number\n",
    "\n",
    "    # Add advanced mathematical operations to the calculator\n",
    "    def add_advanced_operations(self):\n",
    "        self.add_operation('^', self.exponentiation)\n",
    "        self.add_operation('sqrt', self.square_root)\n",
    "        self.add_operation('log', self.logarithm)\n",
    "\n",
    "    def exponentiation(self, first_number, second_number):\n",
    "        return first_number ** second_number\n",
    "\n",
    "    def square_root(self, first_number):\n",
    "        if first_number < 0:\n",
    "            print(\"Error: cannot calculate square root of a negative number.\")\n",
    "            return None\n",
    "        return math.sqrt(first_number)\n",
    "\n",
    "    def logarithm(self, first_number, base):\n",
    "        if first_number <= 0 or base <= 0:\n",
    "            print(\"Error: Cannot calculate logarithm with non-positive numbers.\")\n",
    "            return None\n",
    "        return math.log(first_number, base)\n",
    "\n",
    "\n",
    "# Main program\n",
    "calculator = Calculator()\n",
    "calculator.add_advanced_operations()\n",
    "\n",
    "while True:\n",
    "    try:\n",
    "        first_number = float(input(\"Enter the first number: \"))\n",
    "        operation = input(\"Enter the operation (+, -, *, /, ^, sqrt, log): \")\n",
    "        if operation not in ['+', '-', '*', '/', '^', 'sqrt', 'log']:\n",
    "            raise ValueError(\"Invalid operation\")\n",
    "\n",
    "        if operation == 'sqrt':\n",
    "            result = calculator.calculate(first_number, operation)\n",
    "        elif operation == 'log':\n",
    "            base = float(input(\"Enter the base for logarithm: \"))\n",
    "            result = calculator.calculate(first_number, operation, base)\n",
    "        else:\n",
    "            second_number = float(input(\"Enter the second number: \"))\n",
    "            result = calculator.calculate(first_number, operation, second_number)\n",
    "\n",
    "        print(\"Result:\", result)\n",
    "\n",
    "    except ValueError as e:\n",
    "        print(\"ValueError:\", e)\n",
    "\n",
    "    choice = input(\"Do you want to continue? (yes/no): \")\n",
    "    if choice.lower() != 'yes':\n",
    "        break\n"
   ]
  },
  {
   "cell_type": "code",
   "execution_count": null,
   "id": "30fd4df9-decc-4323-aa46-0ac59b7e6beb",
   "metadata": {},
   "outputs": [],
   "source": []
  }
 ],
 "metadata": {
  "kernelspec": {
   "display_name": "Python 3 (ipykernel)",
   "language": "python",
   "name": "python3"
  },
  "language_info": {
   "codemirror_mode": {
    "name": "ipython",
    "version": 3
   },
   "file_extension": ".py",
   "mimetype": "text/x-python",
   "name": "python",
   "nbconvert_exporter": "python",
   "pygments_lexer": "ipython3",
   "version": "3.12.4"
  }
 },
 "nbformat": 4,
 "nbformat_minor": 5
}
