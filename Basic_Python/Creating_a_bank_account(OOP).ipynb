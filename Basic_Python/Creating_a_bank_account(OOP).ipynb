{
 "cells": [
  {
   "cell_type": "markdown",
   "id": "3f408f7e-6d99-4b9c-98db-ff5a82c8338c",
   "metadata": {},
   "source": [
    "## Creating a bank account using Object Oriented Programming(oop)"
   ]
  },
  {
   "cell_type": "code",
   "execution_count": 5,
   "id": "8540e608-0cff-4ca2-8b48-021e026d1c1c",
   "metadata": {},
   "outputs": [
    {
     "name": "stdout",
     "output_type": "stream",
     "text": [
      "Initial balance: 250000.0\n",
      "Balance after deposit: 350000.0\n",
      "Withdrew amount: 50000.0. New balance is 300000.0.\n",
      "Final balance: 300000.0\n",
      "\n",
      "Account 1:\n",
      "  - Initial balance: 2500.0\n",
      "  - Balance after deposit: 3250.0\n",
      "Withdrew amount: 1200.0. New balance is 2050.0.\n",
      "  - Balance after withdrawal: 2050.0\n",
      "\n",
      "Account 2:\n",
      "  - Initial balance: 0.0\n",
      "  - Balance after deposit: 1000.0\n",
      "Withdrew amount: 500.0. New balance is 500.0.\n",
      "  - Balance after withdrawal: 500.0\n",
      "Insufficient funds for withdrawal.\n"
     ]
    }
   ],
   "source": [
    "# Define the Account Class and its attributes\n",
    "class Account:\n",
    "    def __init__(self, account_number: str, account_holder: str, account_balance: float = 0.0):\n",
    "        self.account_number = account_number\n",
    "        self.account_balance = account_balance\n",
    "        self.account_holder = account_holder\n",
    "\n",
    "    # Define the deposit method\n",
    "    def deposit(self, amount: float):\n",
    "        if amount > 0:\n",
    "            self.account_balance += amount\n",
    "        else:\n",
    "            print(\"Deposit amount must be positive.\")\n",
    "\n",
    "    # Define the withdraw method\n",
    "    def withdraw(self, amount: float):\n",
    "        if amount > 0:\n",
    "            if self.account_balance >= amount:\n",
    "                self.account_balance -= amount\n",
    "                print(f\"Withdrew amount: {amount}. New balance is {self.account_balance}.\")\n",
    "            else:\n",
    "                print(\"Insufficient funds for withdrawal.\")\n",
    "        else:\n",
    "            print(\"Withdrawal amount must be positive.\")\n",
    "\n",
    "    # Define the check balance method and return the current balance\n",
    "    def check_balance(self):\n",
    "        return self.account_balance\n",
    "\n",
    "# Create an instance of the Account class, and assign it to a variable called \"my_account\"\n",
    "my_account = Account(\"0069709903\", \"Esther Adeyeni\", 250000.00)\n",
    "\n",
    "# Use the methods of the class to deposit and withdraw money from the account, and check the account balance.\n",
    "# Print initial balance\n",
    "print(\"Initial balance:\", my_account.check_balance())\n",
    "\n",
    "# Make a deposit\n",
    "my_account.deposit(100000.00)\n",
    "# Print balance after deposit\n",
    "print(\"Balance after deposit:\", my_account.check_balance())\n",
    "\n",
    "# Withdraw money from the bank\n",
    "my_account.withdraw(50000.00)\n",
    "# Print final balance\n",
    "print(\"Final balance:\", my_account.check_balance())\n",
    "\n",
    "# Test the program by creating multiple instances of the class and performing different transactions on them.\n",
    "# Create multiple account instances\n",
    "account1 = Account(\"9876543210\", \"Abisola Debby\", 2500.00)\n",
    "account2 = Account(\"1122334455\", \"Maxwell Jones\", 0.00)\n",
    "\n",
    "# Perform transactions on account1\n",
    "print(\"\\nAccount 1:\")\n",
    "print(\"  - Initial balance:\", account1.check_balance())\n",
    "account1.deposit(750.00)\n",
    "print(\"  - Balance after deposit:\", account1.check_balance())\n",
    "account1.withdraw(1200.00)\n",
    "print(\"  - Balance after withdrawal:\", account1.check_balance())\n",
    "\n",
    "# Perform transactions on account2\n",
    "print(\"\\nAccount 2:\")\n",
    "print(\"  - Initial balance:\", account2.check_balance())\n",
    "account2.deposit(1000.00)\n",
    "print(\"  - Balance after deposit:\", account2.check_balance())\n",
    "account2.withdraw(500.00)\n",
    "print(\"  - Balance after withdrawal:\", account2.check_balance())\n",
    "account2.withdraw(700.00)\n"
   ]
  },
  {
   "cell_type": "markdown",
   "id": "fd26825a-9068-4d69-ae15-abb1240288d7",
   "metadata": {},
   "source": [
    "## NOTE 1:\n",
    "- deposit(amount: float) - This method adds the amount passed as an argument to the account balance.\n",
    "- withdraw(amount: float) - This method could subtracts the amount passed as an argument from the account balance,if the account balance is greater than the amount being withdrawn.\n",
    "- check_balance() - This method returns the current account balance.\n",
    "\n",
    "## NOTE 2: \n",
    "I tested the program by creating multiple instances of the class and performing different transactions on them.\n"
   ]
  },
  {
   "cell_type": "code",
   "execution_count": null,
   "id": "7dbd9b60-ead7-4536-abaa-41016f57ab0c",
   "metadata": {},
   "outputs": [],
   "source": []
  }
 ],
 "metadata": {
  "kernelspec": {
   "display_name": "Python 3 (ipykernel)",
   "language": "python",
   "name": "python3"
  },
  "language_info": {
   "codemirror_mode": {
    "name": "ipython",
    "version": 3
   },
   "file_extension": ".py",
   "mimetype": "text/x-python",
   "name": "python",
   "nbconvert_exporter": "python",
   "pygments_lexer": "ipython3",
   "version": "3.12.4"
  }
 },
 "nbformat": 4,
 "nbformat_minor": 5
}
