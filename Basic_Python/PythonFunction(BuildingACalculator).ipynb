{
 "cells": [
  {
   "cell_type": "markdown",
   "metadata": {},
   "source": [
    "Create a calculator program that allows the user to perform mathematical operations on two numbers using basic functions and a dictionary to store the operations. The program should also have the ability to continue calculations with the result of previous calculations."
   ]
  },
  {
   "cell_type": "code",
   "execution_count": 2,
   "metadata": {},
   "outputs": [
    {
     "name": "stdout",
     "output_type": "stream",
     "text": [
      "Available operations: +, -, *, /\n",
      "76.0 + 4.0 = 80.0\n",
      "Available operations: +, -, *, /\n",
      "80.0 / 7.0 = 11.428571428571429\n"
     ]
    }
   ],
   "source": [
    "##Create four basic mathematical functions that can take two numbers and return the result of the operation\n",
    "def add(x, y):\n",
    "    return x + y\n",
    "\n",
    "def subtract(x, y):\n",
    "    return x - y\n",
    "\n",
    "def multiply(x, y):\n",
    "    return x * y\n",
    "\n",
    "def divide(x, y):\n",
    "    if y != 0:\n",
    "        return x / y\n",
    "    else:\n",
    "        return f\"Error: {x} cannot be divided by {y}.\"\n",
    "\n",
    "# Create a dictionary that assigns functions to their corresponding operation symbols.\n",
    "operation_dictionary = {\"+\": add, \"-\": subtract, \"*\": multiply, \"/\": divide}\n",
    "\n",
    "#create a function calculator that prompts the user to input the first\n",
    "def calculator():\n",
    "    def get_float_input(prompt): #to ensure that user input is always converted to float safely.\n",
    "        while True:\n",
    "            try: #attempt to convert the user's input to a float \n",
    "                return float(input(prompt))\n",
    "            except ValueError: # if the input can not be converted to a float \n",
    "                print(\"Invalid input. Please enter a number.\")\n",
    "\n",
    "    # Create a variable that prompts the user to input the first number.\n",
    "    first_number = get_float_input(\"Enter the first number: \")\n",
    "    #A FOR LOOP TO PRINT THE AVAILABLE OPERATION SYMBOLS:\n",
    "    #function to print the available operation symbols.\n",
    "    def operation_symbols():\n",
    "        return list(operation_dictionary.keys())\n",
    "\n",
    "    #...Create a while loop that will continue to run until the user chooses to end the current calculation.\n",
    "    process = True\n",
    "    while process:\n",
    "        print(\"Available operations: \" + \", \".join(operation_symbols()))\n",
    "        user_input = input(\"Select an operation (+, -, *, /) or 'quit' to exit: \").strip()\n",
    "\n",
    "        if user_input == 'quit':\n",
    "            break\n",
    "        elif user_input in operation_dictionary:\n",
    "            # Prompt the user to input the second number.\n",
    "            second_number = get_float_input(\"Enter the second number: \")\n",
    "\n",
    "            # Use the dictionary to retrieve the function that corresponds to the selected operation symbol.\n",
    "            calculation_function = operation_dictionary[user_input]\n",
    "\n",
    "            # Perform the calculation and store the result.\n",
    "            answer = calculation_function(first_number, second_number)\n",
    "            print(f\"{first_number} {user_input} {second_number} = {answer}\")\n",
    "\n",
    "            # Ask the user if they would like to continue using the result as the first number for further calculations.\n",
    "            should_continue = input(\"Continue using the result as the first number for further calculations? (YES/NO/QUIT): \").strip().upper()\n",
    "\n",
    "            if should_continue == \"YES\":\n",
    "                # Update the 'first_number' variable to the value of 'answer'.\n",
    "                first_number = answer\n",
    "            elif should_continue == \"NO\":\n",
    "                # Start a new calculation by prompting for a new first number.\n",
    "                first_number = get_float_input(\"Enter the first number: \")\n",
    "            else:\n",
    "                # Exit the loop if the user chooses to quit.\n",
    "                break\n",
    "        else:\n",
    "            print(f\"Unrecognized operation: {user_input}\")\n",
    "\n",
    "# Call the calculator function to start the program.\n",
    "calculator()\n"
   ]
  },
  {
   "cell_type": "code",
   "execution_count": null,
   "metadata": {},
   "outputs": [],
   "source": []
  }
 ],
 "metadata": {
  "kernelspec": {
   "display_name": "Python 3 (ipykernel)",
   "language": "python",
   "name": "python3"
  },
  "language_info": {
   "codemirror_mode": {
    "name": "ipython",
    "version": 3
   },
   "file_extension": ".py",
   "mimetype": "text/x-python",
   "name": "python",
   "nbconvert_exporter": "python",
   "pygments_lexer": "ipython3",
   "version": "3.11.7"
  }
 },
 "nbformat": 4,
 "nbformat_minor": 4
}
